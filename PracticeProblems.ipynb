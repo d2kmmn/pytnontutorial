{
 "cells": [
  {
   "cell_type": "markdown",
   "metadata": {},
   "source": [
    "# Conditionals \n",
    "# Loops\n",
    "# Functions\n"
   ]
  },
  {
   "cell_type": "code",
   "execution_count": 4,
   "metadata": {},
   "outputs": [
    {
     "name": "stdout",
     "output_type": "stream",
     "text": [
      "0123456789\n",
      "10203040\n",
      "its an even number\n",
      "its an odd number\n",
      "its an even number\n",
      "its an odd number\n",
      "its an even number\n",
      "its an odd number\n",
      "its an even number\n",
      "its an odd number\n",
      "its an even number\n",
      "its an odd number\n",
      "its an even number\n",
      "its an odd number\n",
      "its an even number\n",
      "its an odd number\n",
      "its an even number\n",
      "its an odd number\n",
      "its an even number\n",
      "its an odd number\n",
      "its an even number\n",
      "its an odd number\n",
      "([1, 3, 5, 7, 9, 11, 13, 15, 17, 19], [0, 2, 4, 6, 8, 10, 12, 14, 16, 18, 20])\n"
     ]
    }
   ],
   "source": [
    "# getting a number 0 to n-1\n",
    "for i in range(10):\n",
    "    print(i,end='')\n",
    "print()\n",
    "# getting values from an iterable\n",
    "mylist=[10,20,30,40]\n",
    "for val in mylist:\n",
    "    print(val,end='')\n",
    "print()\n",
    "\n",
    "# using if else to get a specific value\n",
    "for i in range(20):\n",
    "    if i%2==0:\n",
    "        print('its an even number')\n",
    "    else:\n",
    "        print('its an odd number')\n",
    "\n",
    "# use a function for finding all the \n",
    "# numbers upto n-1 which are odd and even\n",
    "def get_even_odd(n):\n",
    "    odd=[]\n",
    "    even=[]\n",
    "    for i in range(n+1):\n",
    "        \n",
    "        if i%2==0:\n",
    "            even.append(i)\n",
    "        else:\n",
    "            odd.append(i)\n",
    "    return odd,even\n",
    "\n",
    "print(get_even_odd(20))"
   ]
  },
  {
   "cell_type": "markdown",
   "metadata": {},
   "source": [
    "# Task\n",
    "* Write a function that tests if a number is prime or not. \n",
    "* Revise map,reduce and filter concept and fix the below code \n",
    "* Write a function with recursion that inverses a string \n",
    "    * if a string is given : \"mystring\" the output should be: \"gnirtsym\""
   ]
  },
  {
   "cell_type": "code",
   "execution_count": null,
   "metadata": {},
   "outputs": [],
   "source": [
    "from functools import reduce \n",
    "\n",
    "# Use map to print the square of each numbers rounded\n",
    "# to two decimal places\n",
    "my_floats = [4.35, 6.09, 3.25, 9.77, 2.16, 8.88, 4.59]\n",
    "\n",
    "# Use filter to print only the names that are less than \n",
    "# or equal to seven letters\n",
    "my_names = [\"olumide\", \"akinremi\", \"josiah\", \"temidayo\", \"omoseun\"]\n",
    "\n",
    "# Use reduce to print the product of these numbers\n",
    "my_numbers = [4, 6, 9, 23, 5]\n",
    "\n",
    "# Fix all three respectively.\n",
    "map_result = list(map(lambda x: x, my_floats))\n",
    "filter_result = list(filter(lambda name: name, my_names, my_names))\n",
    "reduce_result = reduce(lambda num1, num2: num1 * num2, my_numbers, 0)"
   ]
  }
 ],
 "metadata": {
  "kernelspec": {
   "display_name": "Python 3",
   "language": "python",
   "name": "python3"
  },
  "language_info": {
   "codemirror_mode": {
    "name": "ipython",
    "version": 3
   },
   "file_extension": ".py",
   "mimetype": "text/x-python",
   "name": "python",
   "nbconvert_exporter": "python",
   "pygments_lexer": "ipython3",
   "version": "3.6.9"
  }
 },
 "nbformat": 4,
 "nbformat_minor": 2
}
