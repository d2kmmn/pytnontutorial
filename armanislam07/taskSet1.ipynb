{
 "cells": [
  {
   "cell_type": "markdown",
   "metadata": {},
   "source": [
    "# TASK: 1\n",
    "Create a ```custom_sort``` function that sorts a list of numbers given to the function. \n",
    "* The function should take two parameters. \n",
    "    * 1) **A list of Numbers: (can be floats and ints)**\n",
    "    * 2) **A Boolean**: Based on this input the list could be **high->low** or **low->high**\n",
    "* The function should return 2 values:\n",
    "    * 1) **A tuple**: of sorted numbers\n",
    "    * 2) **A dictionary**: where the **key** would be the the number in list and **value** would be its sorted position \n",
    "\n",
    "### Process:\n",
    "    \n",
    "0) Create a copy of the list.\n",
    "\n",
    "> Search python built in docs to find a function that creates a copy of  the list\n",
    "    \n",
    "1) Sort the list from lowest to highest with nested loop implementing buble sort . \n",
    "> Implement bubble sort or any sort that involves swap operation: i.e- accessing the list and interchanging the values \n",
    "\n",
    "**Don't use python's default sort function.**\n",
    "\n",
    "2) Then depending on the boolean reverse the list. \n",
    "> Search python built in docs to find a function that reverses the list\n",
    "\n",
    "3) Type cast the list to a tuple\n",
    "\n",
    "4) The dictionary should be the following format:**dict ['numbers in tuple']=index in original list**\n",
    "\n",
    "To do this:\n",
    "* iterate through the tuple\n",
    "* find the **index** of the key in **original list** and set it as **_val**\n",
    "* type cast the **key** to string and name it **_key**\n",
    "* update the empty dictionary with **dict update function ({_key:_val})**\n",
    "* to find which function returns index from list and how it works read built in docs.\n",
    "* to find which function updates a dict and how it works read built in docs.\n",
    "\n",
    "5) Return the tuple and dictionary\n",
    "\n",
    "### RESOURCES:\n",
    "* [docs](https://docs.python.org/3/library/)\n",
    "* [bubble sort](https://en.wikipedia.org/wiki/Bubble_sort)"
   ]
  },
  {
   "cell_type": "code",
   "execution_count": 1091,
   "metadata": {},
   "outputs": [],
   "source": [
    "def custom_sort(mylist,ascending):\n",
    "    \n",
    "    # create a copy of the original list\n",
    "    mylist = mylist.copy()\n",
    "    \n",
    "    # your code here\n",
    "    ascending=len(mylist)\n",
    "    list_assen=[]\n",
    "    list_dicen=[]\n",
    "    temp=0\n",
    "    for i in range(len(mylist)):\n",
    "        for j in range(len(mylist)-1):\n",
    "            if mylist[j]>mylist[j+1]:\n",
    "                temp = mylist[j]\n",
    "                mylist[j] = mylist[j+1]\n",
    "                mylist[j+1]=temp\n",
    "                #print(j)\n",
    "            else:\n",
    "                list_assen=tuple(mylist)\n",
    "                #print(list_assen)\n",
    "        #print(i)\n",
    "    for i in range(len(mylist)):\n",
    "        for j in range(len(mylist)-1):\n",
    "            if mylist[j]<mylist[j+1]:\n",
    "                temp = mylist[j]\n",
    "                mylist[j] = mylist[j+1]\n",
    "                mylist[j+1]=temp\n",
    "                #print(j)\n",
    "            else:\n",
    "                list_dicen=mylist\n",
    "                #print(list_dicen)\n",
    "        #print(i)\n",
    "    \n",
    "                \n",
    "    \n",
    "    \n",
    "    # sort\n",
    "    \n",
    "    # your code here\n",
    "    \n",
    "    # low->high / high-> low based on boolean\n",
    "    \n",
    "    # your code here\n",
    "    \n",
    "    # initialize return values\n",
    "    #mytuple =print(list_assen)\n",
    "    mytuple =list_assen\n",
    "    \n",
    "    #mydict  =print(list_dicen)\n",
    "    mydict  ={}\n",
    "    # create the dictionary\n",
    "    index=0\n",
    "    dictionary=[]\n",
    "    for i in range(len(mylist)):\n",
    "        for j in range(len(mylist)):\n",
    "            if(num_list[j]==mylist[i]):\n",
    "                index = num_list.index(num_list[j])\n",
    "    #             dictionary.append(dict({i:list_dicen[i]}))\n",
    "                mydict.update({str(index):mylist[i]})\n",
    "       \n",
    "    #mydict=list_assen\n",
    "    # your code here\n",
    "    \n",
    "    # return statement\n",
    "    return mytuple,mydict\n",
    "#lenth_array=len(num_list)\n",
    "#custom_sort(num_list,lenth_array)\n",
    "\n"
   ]
  },
  {
   "cell_type": "code",
   "execution_count": 1092,
   "metadata": {},
   "outputs": [
    {
     "name": "stdout",
     "output_type": "stream",
     "text": [
      "Original List: [200, 1000, 10, 25, 30.56, 45, 58, 255.0, 234.03]\n",
      "Tuple: (10, 25, 30.56, 45, 58, 200, 234.03, 255.0, 1000)\n",
      "Dict: {'1': 1000, '7': 255.0, '8': 234.03, '0': 200, '6': 58, '5': 45, '4': 30.56, '3': 25, '2': 10}\n"
     ]
    }
   ],
   "source": [
    "# use case\n",
    "num_list=[200,1000,10,25,30.56,45,58,255.00,234.03]\n",
    "#lenth_array=len(num_list)\n",
    "new_tuple,new_dict=custom_sort(num_list,True)\n",
    "print('Original List:',num_list)\n",
    "print('Tuple:',new_tuple)\n",
    "print('Dict:',new_dict)"
   ]
  },
  {
   "cell_type": "markdown",
   "metadata": {},
   "source": [
    "# Task-2\n",
    "Create a function that prints pascals triangle with **factorial**. \n",
    "\n",
    "**The function must have a nested function that returns the factorial of a number** \n",
    "\n",
    "* [Resource1](https://www.codewithc.com/pascals-triangle-algorithm-flowchart/)\n",
    "* [Resource2](https://colalg.math.csusb.edu/~devel/IT/main/m12_binomial/src/s01_pascal.html)\n",
    "\n",
    "* See check the **print** function **sep** parameter for printing\n"
   ]
  },
  {
   "cell_type": "code",
   "execution_count": 34,
   "metadata": {},
   "outputs": [],
   "source": [
    "def pascal_triangle(rows):\n",
    "    # define a factorial function\n",
    "    \n",
    "    def fact(n):\n",
    "        factorial=1\n",
    "#         if n == 1:\n",
    "#             return 1\n",
    "#         else:\n",
    "#             return (fact(n-1)) * n\n",
    "#       \n",
    "        \n",
    "        for num in range(1,n+1):\n",
    "             factorial=factorial*num\n",
    "        \n",
    "        return factorial\n",
    "        \n",
    "    \n",
    "    # your code here\n",
    "    for i in range(rows):\n",
    "        \n",
    "        for j in range(1,rows-i):\n",
    "            print(\" \",end=\" \")\n",
    "        for x in range(0,i+1):\n",
    "#             \n",
    "            y=int(fact(i)/(fact(x)*fact(i-x)))\n",
    "            print(\" \",y,end=\" \")\n",
    "        print(\"\\r\")\n",
    "    \n",
    "    # use the factorial to pront the triangle\n",
    "#     fact(rows)\n",
    "    # your code here\n",
    "    pass\n",
    "    \n",
    "\n"
   ]
  },
  {
   "cell_type": "code",
   "execution_count": 35,
   "metadata": {},
   "outputs": [
    {
     "name": "stdout",
     "output_type": "stream",
     "text": [
      "                    1 \r\n",
      "                  1   1 \r\n",
      "                1   2   1 \r\n",
      "              1   3   3   1 \r\n",
      "            1   4   6   4   1 \r\n",
      "          1   5   10   10   5   1 \r\n",
      "        1   6   15   20   15   6   1 \r\n",
      "      1   7   21   35   35   21   7   1 \r\n",
      "    1   8   28   56   70   56   28   8   1 \r\n",
      "  1   9   36   84   126   126   84   36   9   1 \r\n"
     ]
    }
   ],
   "source": [
    "# use case\n",
    "pascal_triangle(10)\n",
    "\n"
   ]
  },
  {
   "cell_type": "markdown",
   "metadata": {},
   "source": [
    "# Task-3 \n",
    "Create a random number generator with **random** [built in module.](https://docs.python.org/3/py-modindex.html)\n",
    "* the function should take two variables which will dictate the upper and lower limit of random numbers we want\n",
    "* the function should never end generating random numbe  (be careful while doing this) \n",
    "* the code can not be greater than two lines"
   ]
  },
  {
   "cell_type": "code",
   "execution_count": 765,
   "metadata": {},
   "outputs": [],
   "source": [
    "import random\n",
    "def gen_rand(a,b):\n",
    "    # code line 1\n",
    "    for i in range(a,b):\n",
    "        random_no=random.randrange(a,b)\n",
    "    # code line 2\n",
    "        yield random_no   \n",
    "    pass\n",
    "\n"
   ]
  },
  {
   "cell_type": "code",
   "execution_count": 768,
   "metadata": {},
   "outputs": [
    {
     "name": "stdout",
     "output_type": "stream",
     "text": [
      "56\n",
      "60\n",
      "37\n",
      "21\n",
      "34\n",
      "27\n"
     ]
    }
   ],
   "source": [
    "# use case\n",
    "gen=gen_rand(10,100)\n",
    "print(next(gen))\n",
    "print(next(gen))\n",
    "print(next(gen))\n",
    "print(next(gen))\n",
    "print(next(gen))\n",
    "print(next(gen))"
   ]
  },
  {
   "cell_type": "markdown",
   "metadata": {},
   "source": [
    "# After finishing the tasks copy your version to your git name folder and push it to the repo"
   ]
  },
  {
   "cell_type": "markdown",
   "metadata": {},
   "source": [
    "Task\n",
    "\n",
    "    Write a function that tests if a number is prime or not.\n",
    "    Revise map,reduce and filter concept and fix the below code\n",
    "    Write a function with recursion that inverses a string\n",
    "        if a string is given : \"mystring\" the output should be: \"gnirtsym\"\n",
    "\n"
   ]
  },
  {
   "cell_type": "code",
   "execution_count": 6,
   "metadata": {},
   "outputs": [
    {
     "name": "stdout",
     "output_type": "stream",
     "text": [
      "Filter Array: [4.35, 6.09, 9.77, 8.88, 4.59]\n",
      "inverses String: ['olumide', 'akinremi', 'josiah', 'temidayo', 'omoseun', 'edimulo', 'imernika', 'haisoj', 'oyadimet', 'nuesomo']\n",
      "Reduce Number: 48\n",
      "Map Array: [18.922499999999996, 37.0881, 10.5625, 95.45289999999999, 4.6656, 78.85440000000001, 21.068099999999998]\n"
     ]
    }
   ],
   "source": [
    "from functools import reduce \n",
    "\n",
    "# Use map to print the square of each numbers rounded\n",
    "# to two decimal places\n",
    "def sqr(n):\n",
    "    return n**2\n",
    "\n",
    "my_floats = [4.35, 6.09, 3.25, 9.77, 2.16, 8.88, 4.59]\n",
    "\n",
    "# Use filter to print only the names that are less than \n",
    "def filter_array(n):\n",
    "    return n>3.25\n",
    "filter_data=list(filter(filter_array,my_floats))\n",
    "print(\"Filter Array:\",filter_data)\n",
    "# or equal to seven letters\n",
    "my_names = [\"olumide\", \"akinremi\", \"josiah\", \"temidayo\", \"omoseun\"]\n",
    "def rivers_str(x):\n",
    "    for i in range(len(x)):\n",
    "        my_names.append(x[i][::-1])\n",
    "    print(\"inverses String:\",my_names)\n",
    "        \n",
    "rivers_str(my_names)\n",
    "\n",
    "# Use reduce to print the product of these numbers\n",
    "my_numbers = [4, 7, 9, 23, 5]\n",
    "def reduce_array(a,b):\n",
    "    return a+b\n",
    "reduce_result=reduce(reduce_array, my_numbers)\n",
    "print(\"Reduce Number:\",reduce_result)\n",
    "# Fix all three respectively.\n",
    "map_result = list(map(sqr, my_floats))\n",
    "# filter_result = list(filter(lambda name: name, my_names, my_names))\n",
    "reduce_result = reduce(lambda num1, num2: num1 * num2, my_numbers, 0)\n",
    "\n",
    "print(\"Map Array:\",map_result)"
   ]
  },
  {
   "cell_type": "raw",
   "metadata": {},
   "source": [
    "Prime Number"
   ]
  },
  {
   "cell_type": "code",
   "execution_count": 5,
   "metadata": {},
   "outputs": [
    {
     "name": "stdout",
     "output_type": "stream",
     "text": [
      "Prime Number: 2 \n",
      "Prime Number: 3 \n",
      "Prime Number: 7 \n",
      "Prime Number: 5 \n",
      "Prime Number: 23 \n"
     ]
    }
   ],
   "source": [
    "primeNumber=[2,4,3,7,9,5,23]\n",
    "def prime_number(n):\n",
    "    for i in range(len(n)):\n",
    "        x=n[i]/2\n",
    "        count=1\n",
    "        array=[]\n",
    "        for j in range(2,n[i]):\n",
    "            if(n[i]%j==0):\n",
    "                count=0\n",
    "                break\n",
    "        if(count==1):\n",
    "            print(\"Prime Number:\",n[i],end=\" \")\n",
    "            print()\n",
    "prime_number(primeNumber)  "
   ]
  },
  {
   "cell_type": "code",
   "execution_count": null,
   "metadata": {},
   "outputs": [],
   "source": []
  }
 ],
 "metadata": {
  "kernelspec": {
   "display_name": "Python 3",
   "language": "python",
   "name": "python3"
  },
  "language_info": {
   "codemirror_mode": {
    "name": "ipython",
    "version": 3
   },
   "file_extension": ".py",
   "mimetype": "text/x-python",
   "name": "python",
   "nbconvert_exporter": "python",
   "pygments_lexer": "ipython3",
   "version": "3.6.8"
  }
 },
 "nbformat": 4,
 "nbformat_minor": 2
}
