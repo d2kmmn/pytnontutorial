{
 "cells": [
  {
   "cell_type": "markdown",
   "metadata": {},
   "source": [
    "# TASK: 1\n",
    "Create a ```custom_sort``` function that sorts a list of numbers given to the function. \n",
    "* The function should take two parameters. \n",
    "    * 1) **A list of Numbers: (can be floats and ints)**\n",
    "    * 2) **A Boolean**: Based on this input the list could be **high->low** or **low->high**\n",
    "* The function should return 2 values:\n",
    "    * 1) **A tuple**: of sorted numbers\n",
    "    * 2) **A dictionary**: where the **key** would be the the number in list and **value** would be its sorted position \n",
    "\n",
    "### Process:\n",
    "    \n",
    "0) Create a copy of the list.\n",
    "\n",
    "> Search python built in docs to find a function that creates a copy of  the list\n",
    "    \n",
    "1) Sort the list from lowest to highest with nested loop implementing buble sort . \n",
    "> Implement bubble sort or any sort that involves swap operation: i.e- accessing the list and interchanging the values \n",
    "\n",
    "**Don't use python's default sort function.**\n",
    "\n",
    "2) Then depending on the boolean reverse the list. \n",
    "> Search python built in docs to find a function that reverses the list\n",
    "\n",
    "3) Type cast the list to a tuple\n",
    "\n",
    "4) The dictionary should be the following format:**dict ['numbers in tuple']=index in original list**\n",
    "\n",
    "To do this:\n",
    "* iterate through the tuple\n",
    "* find the **index** of the key in **original list** and set it as **_val**\n",
    "* type cast the **key** to string and name it **_key**\n",
    "* update the empty dictionary with **dict update function ({_key:_val})**\n",
    "* to find which function returns index from list and how it works read built in docs.\n",
    "* to find which function updates a dict and how it works read built in docs.\n",
    "\n",
    "5) Return the tuple and dictionary\n",
    "\n",
    "### RESOURCES:\n",
    "* [docs](https://docs.python.org/3/library/)\n",
    "* [bubble sort](https://en.wikipedia.org/wiki/Bubble_sort)"
   ]
  },
  {
   "cell_type": "code",
   "execution_count": 5,
   "metadata": {},
   "outputs": [],
   "source": [
    "def custom_sort(mylist,ascending):\n",
    "    \n",
    "    # create a copy of the original list\n",
    "    \n",
    "    # your code here\n",
    "    \n",
    "    # sort\n",
    "    \n",
    "    # your code here\n",
    "    \n",
    "    # low->high / high-> low based on boolean\n",
    "    \n",
    "    # your code here\n",
    "    \n",
    "    # initialize return values\n",
    "    mytuple = None\n",
    "    mydict  = {}\n",
    "    # create the dictionary\n",
    "    \n",
    "    # your code here\n",
    "    \n",
    "    # return statement\n",
    "    return mytuple,mydict\n",
    "\n"
   ]
  },
  {
   "cell_type": "code",
   "execution_count": 4,
   "metadata": {},
   "outputs": [
    {
     "name": "stdout",
     "output_type": "stream",
     "text": [
      "Original List: [200, 1000, 10, 25, 30.56, 45, 58, 255.0, 234.03]\n",
      "Tuple: (10, 25, 30.56, 45, 58, 200, 234.03, 255.0, 1000)\n",
      "Dict: {'10': 2, '25': 3, '30.56': 4, '45': 5, '58': 6, '200': 0, '234.03': 8, '255.0': 7, '1000': 1}\n"
     ]
    }
   ],
   "source": [
    "# use case\n",
    "num_list=[200,1000,10,25,30.56,45,58,255.00,234.03]\n",
    "new_tuple,new_dict=custom_sort(num_list,True)\n",
    "print('Original List:',num_list)\n",
    "print('Tuple:',new_tuple)\n",
    "print('Dict:',new_dict)"
   ]
  },
  {
   "cell_type": "markdown",
   "metadata": {},
   "source": [
    "# Task-2\n",
    "Create a function that prints pascals triangle with **factorial**. \n",
    "\n",
    "**The function must have a nested function that returns the factorial of a number** \n",
    "\n",
    "* [Resource1](https://www.codewithc.com/pascals-triangle-algorithm-flowchart/)\n",
    "* [Resource2](https://colalg.math.csusb.edu/~devel/IT/main/m12_binomial/src/s01_pascal.html)\n",
    "\n",
    "* See check the **print** function **sep** parameter for printing\n"
   ]
  },
  {
   "cell_type": "code",
   "execution_count": 7,
   "metadata": {},
   "outputs": [],
   "source": [
    "def pascal_triangle(rows):\n",
    "    # define a factorial function\n",
    "    \n",
    "    # your code here\n",
    "    \n",
    "    # use the factorial to pront the triangle\n",
    "    \n",
    "    # your code here\n",
    "    pass\n",
    "\n"
   ]
  },
  {
   "cell_type": "code",
   "execution_count": 6,
   "metadata": {},
   "outputs": [
    {
     "name": "stdout",
     "output_type": "stream",
     "text": [
      "                     1\n",
      "                   1   1\n",
      "                 1   2   1\n",
      "               1   3   3   1\n",
      "             1   4   6   4   1\n",
      "           1   5   10   10   5   1\n",
      "         1   6   15   20   15   6   1\n",
      "       1   7   21   35   35   21   7   1\n",
      "     1   8   28   56   70   56   28   8   1\n",
      "   1   9   36   84   126   126   84   36   9   1\n"
     ]
    }
   ],
   "source": [
    "# use case\n",
    "pascal_triangle(10)\n"
   ]
  },
  {
   "cell_type": "markdown",
   "metadata": {},
   "source": [
    "# Task-3 \n",
    "Create a random number generator with **random** [built in module.](https://docs.python.org/3/py-modindex.html)\n",
    "* the function should take two variables which will dictate the upper and lower limit of random numbers we want\n",
    "* the function should never end generating random numbe  (be careful while doing this) \n",
    "* the code can not be greater than two lines"
   ]
  },
  {
   "cell_type": "code",
   "execution_count": 9,
   "metadata": {},
   "outputs": [],
   "source": [
    "import random\n",
    "def gen_rand(a,b):\n",
    "    # code line 1\n",
    "    # code line 2\n",
    "    pass    \n",
    "\n"
   ]
  },
  {
   "cell_type": "code",
   "execution_count": 8,
   "metadata": {},
   "outputs": [
    {
     "name": "stdout",
     "output_type": "stream",
     "text": [
      "78\n",
      "99\n",
      "61\n",
      "42\n",
      "53\n",
      "81\n"
     ]
    }
   ],
   "source": [
    "# use case\n",
    "gen=gen_rand(10,100)\n",
    "print(next(gen))\n",
    "print(next(gen))\n",
    "print(next(gen))\n",
    "print(next(gen))\n",
    "print(next(gen))\n",
    "print(next(gen))"
   ]
  },
  {
   "cell_type": "markdown",
   "metadata": {},
   "source": [
    "# After finishing the tasks copy your version to your git name folder and push it to the repo"
   ]
  },
  {
   "cell_type": "code",
   "execution_count": null,
   "metadata": {},
   "outputs": [],
   "source": []
  }
 ],
 "metadata": {
  "kernelspec": {
   "display_name": "Python 3",
   "language": "python",
   "name": "python3"
  },
  "language_info": {
   "codemirror_mode": {
    "name": "ipython",
    "version": 3
   },
   "file_extension": ".py",
   "mimetype": "text/x-python",
   "name": "python",
   "nbconvert_exporter": "python",
   "pygments_lexer": "ipython3",
   "version": "3.6.9"
  }
 },
 "nbformat": 4,
 "nbformat_minor": 2
}
